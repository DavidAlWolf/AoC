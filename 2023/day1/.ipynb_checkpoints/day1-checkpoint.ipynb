{
 "cells": [
  {
   "cell_type": "code",
   "execution_count": 1,
   "id": "dd4728aa",
   "metadata": {},
   "outputs": [
    {
     "name": "stdout",
     "output_type": "stream",
     "text": [
      "['6798seven\\n', 'six8b32csscsdgjsevenfivedlhzhc\\n', 'fcvvkvjjnhfivesixfiveninesxlvnhfckc54\\n', 'feightwo4twofivefour\\n', 'cgpzm2sevenone68636\\n', '498879\\n', 'fivetwo2plltvdfourhhgrfn\\n', 'onertxzlzdnxn2seven\\n', 'ninethree4v1five\\n', '5pnnss16lzbsmcckeightdseven\\n', 'jthree249four2cjzqmmbrqnnine\\n', 'foursixfourfbgvqm1rchdlmzhtzqqfjzpmln\\n', 'twojtwoscbrtgmnqzvbfbzvrtkxhmf76nine\\n', '2fourtwo\\n', 'svxz8bjvt5zzvjzhkmtmnnft92\\n', 'threetffnjvkfh81nineqqshzdf2vtjfqjtbdv\\n', 'seven1drfivethreedpqflxgdshlzmmnrb\\n', '7sggjxkcxfourthreefourtwos3nine\\n', '39t6rvkbdnfpssj6djnfbqklkgfsqbf\\n', '3four2zcfvtplkrbeight274\\n', 'one7sixninesix\\n', 'kkxmtmdthree6jrj6\\n', '81sevenmnine1llbqrsprc\\n', '5nine9qgjceight\\n', 'three1sdmq9sevenfournine\\n', 'khnlbmzhvlsix3\\n', 'nineone6onesixvlnlxeightfive\\n', 'schplznseveneightnlcxgr7four\\n', '6one1djcdmpdrgq3two\\n', 'fourzhpnphmq52r813four\\n', 'scsxjthreefoureight2fivepfmpfj8\\n', '69xvbxfffmr7one8gmch8\\n', 'one8tfpgrdhm\\n', '2gxmhtfrbrkpdvlvsmdqrktxtrpssbrv933\\n', '4vfrtkdqlbtwordlbppsssp\\n', '2cjmtvnzpbkdcq5twofourtwo\\n', '2three5onetwogpfqtszbjh\\n', 'hgvnine9four996\\n', '37142745\\n', 'four73\\n', '8552ztclnd\\n', 'onevmpd76eighth\\n', 'threethree8\\n', 'bgtwonedrmc35\\n', '23one\\n', '9lpxzhkck2five3qone9zgxzrzd\\n', 'hs1\\n', '92xhflsixltpqprpfggbzrvmfqone4\\n', 'eight9sevenpcxvl6two1\\n', 'rceightwo6jc1nvllxsstqgnlhtl4\\n', 'tlnhlsixfn3lbdlqztmkthreedllfourone\\n', '74five\\n', 'dcfpstvxnd52kdqhlht\\n', '7onenine\\n', '2twothreehdzssrt1\\n', 'eightseveneight54xflfspthreefsfbtbslx\\n', '4ffsfsvkxslvp\\n', '939flgbmvzpvfsmtcsix3\\n', '742\\n', 'qcfive72plvnd7\\n', '5hhd8onejbsfklmpzcgffivenine\\n', 'twodsmjkhdxjdgktlrteightseven2cttnpjsv\\n', '31kptdmtwojrgp\\n', 'dnnmrflcft92\\n', '7gtglplfkrnine85xm7\\n', 'voneightznktfvmxlhnine1seven4z\\n', '24sevenncdmcpkrvnxlbeightsixlrvns\\n', '38prmrxcm5\\n', '4vhncsevenjgvjllppvcfmvrlsdtkqcldpq\\n', '81phvtb\\n', '5l7twoeightlr\\n', '8xfqbnone5\\n', '62737sixfourdfqvdcone\\n', 'seven1two\\n', '79qncxqcj1one3\\n', '69four3two7six2six\\n', 'six499\\n', 'gknlkqvntvmsjzlfb7one\\n', 'honeightmjlmvmbxsmjzg77\\n', '6seven15\\n', 'five59two91\\n', 'gmhhtq9368gtsdg\\n', 'nlmbvxckjtwofourfjnine47threefive\\n', '93eightnpkjf26one4\\n', 'qcslmgkkgbsnrr6ninennr\\n', '8381three2threeone\\n', '7hnqndhs8\\n', 'qd65\\n', 'twogtlrqrlvfourfour5qsixdjhvqvdlljnvbtkq\\n', '6seven8ldvkz\\n', 'gf14sevenrv\\n', '2fourpkzdklbvm2\\n', 'four26jsrbsrxdlmzntsxgg\\n', 'tghcz8fourthree\\n', 'threethree8hzlvpjzxcdfvcpjbmc942\\n', 'jktsix2cprnhkkktjcvkvtkdggvrscf\\n', 'dzhh82\\n', 'nine8tsix\\n', '9fivernlsl6jvfrljzjg\\n', '52d\\n', 'threethree556nine\\n', 'g2twoblhhptzdqbbnnrpseven5\\n', 'jfive8\\n', 'eighttwotwofiveqdfr9\\n', 'kqxncc74sjttqklx3lxpffbdlthreetwooneightnb\\n', '1xpvjzvplfjdsjqrtmzbknine\\n', 'five4r6five\\n', '72eight\\n', '1kzvxckdbjjpprrqn4eight6onebsdmrcxqznjtbnh\\n', 'htwocglz3jggvkcbzvtconeeight7\\n', 'twozspgcxf5bhx\\n', 'ntglpd1six1bv1\\n', '5zxgrdlhkmzsix47t43\\n', 'kfrnghxgfzpjxmstwofourkzvcsksixfive1\\n', 'grnd423\\n', '8f\\n', '1xcqchtnsix4tvtffone\\n', 'bxlbtwotwoeight9twoseveneight\\n', '7ldngmndg96pjnfour\\n', 'five4threexp\\n', 'mtwonexp7nine3z9\\n', '8kg95ninesixtwonem\\n', 'sixpmvfoursevenz8m\\n', 'vrszvbtvtr28pzcjxkztzhvmtqvhnqf3\\n', '1gsbtwopjkrrqc1one\\n', 'tbmsix93\\n', 'n4\\n', 'kffgtgcl866364\\n', 'one4qgkzthpmeight8eightfourkdcnpxv6\\n', 'cfhlmng21five\\n', '8lhcseven9vksfgpvlnfq3bglktc\\n', 'twocc2rpflzhqseventhree\\n', 'six1fourfivefive5onesnpz\\n', '1ffqfxh75flgjqcx\\n', 'fourthree1twortvlvcsvs2\\n', '8rxrpvxthreestbbpcszhnbrsfour\\n', '6qdkshgrsjxxsvpmnjxnzmcone71fckgjbrsnq\\n', '8568three2eight\\n', '1khdqskj\\n', 'onebdfour6\\n', 'dpcpqnineqjnfzffsb5tj1ccm4four\\n', 'nsrvffqhd67sixtwoseventwohdgh3\\n', 'nvsscfour973fsngxbm6\\n', '93zzrgmsqtlckzrnbbk4seven\\n', '3seventhreexpfrrfpfiverv7\\n', 'threeeightfourfoureightnine1one8\\n', '7onethreefour33cghone\\n', 'sevenfivesixseven2\\n', 'jgbgmcx76qc\\n', 'zxbpvj7\\n', '21xlcgpshvth96fourtwokcvmhcdtxnm\\n', 'foursix2\\n', '6three9nine4sevennine\\n', 'dqnhdnine3\\n', 'seven58vzcxqmffive7\\n', 'xdmeightwomncvnkdkpxtwoonenineseven1tclckshvptwo\\n', 'gsdff22fivethreebn\\n', 'one7gd\\n', 'jcz8xxfdlphz5threepzmjqzfb39qllhvcqj\\n', 'fivesvjdbqlvgnvkcklszeightcjhdjxdvchfive9\\n', '9sfgxbtcgbk\\n', 'six4zvfivelxfghffvq9bfkshrkmbn\\n', 'sdtxjnnjjp3fivejsll5\\n', 'tpeightwozhzqxjstneightsixgbjlmsjfls6tlc\\n', '668ninenine\\n', 'three7two\\n', 'gtskqnine1seven862mm\\n', '487jsqqfkzfcs2lthng7five\\n', 'gjks7\\n', 'lfnqzjphssevenone2qvfiveninexhr\\n', 'fvfgnddffhjjfour9six9\\n', 'ttkmtncjc9five5eight3\\n', '3seven24426four\\n', 'two9jnd5eight\\n', 'threeonevmzqdxvjlqxgzqone1hcpqsd43\\n', 'tfzzzjjbx7oneeightbqthree\\n', '68onerrpvsixvkmnrndq\\n', 'jbjljljmtwoqgt3kpvdkdsixone\\n', 'kxvbxzzxrfour2slfjkkgq555gxfsix\\n', 'three9tsthree\\n', 'eighttbtdg2sevenxsqsq\\n', 'seven213jbqmvmvvhsixrfqhlfive\\n', 'nsvcdhkbdmxqbkthree28ztjtlsqprcplmx\\n', '4lntqfk4tkmmgkvrcninenineonelpjtq\\n', '221eightqfp7eightzshhl\\n', 'vppzgrsix1fmvpcpkvsvppspqcsixone\\n', '5lhcrxclclcsix4\\n', 'qhone2mhhxqqdl73seven5\\n', '5three9hdnfrgfjsfive7\\n', 'grcfbvfkj4\\n', '487mzcgxvxqgx\\n', 'four8nine3four3lpqnclxzzbmjztbhdfdjfive\\n', '3six6kbrvjjsndlxvsz5qcfmtzsqlmqbrn\\n', 'klcx6eightsix2onesixthree\\n', '8ztdfdglxhjxmmvktwolsrr5six7\\n', '9two66three\\n', '6threesixtgnznd\\n', 'ggglpldvkkhgmrgt3\\n', '9kktwo3srdtpskbbx446\\n', '7xmrfkbsr5nzqfgseveneightcbshpfour\\n', 'six5eightseven5gzsjfthree21\\n', '2897cgv\\n', 'dffvs7zrlrvlkjcfourjxsndkzq4\\n', 'eight22blzxvvshgtqlqpqhsixctp\\n', 'three8bgjhkvnbdvbttblp1fivenxslnseven\\n', '3one21x73twongdnb\\n', 'kfzzhhctgrlznqcdvzshlfive56pdqx\\n', 'cfsthhgvgfddmsjn83sjrrkxzl\\n', 'four99tfvbtxgfqrlhcdktmp\\n', '3rfhfgcf8six2\\n', 'onexsbxqmqkj3hrblqnfrseven\\n', 'hfgnvtdzzb51gtljm9eight\\n', 'zprhsph3\\n', 'sixsevennine2four715nine\\n', 'fzxzkcvcxl4\\n', 'lcnkqqsrtwogcbvxrtfp2five5three2\\n', '7ninesix9jxhrdqrpr94\\n', 'lxpqxseven2three\\n', 'mnsjjgdlltwodrcfltwo8vninemqlfqsgccl3\\n', 'sevennfkfvxsqr7twotwonedb\\n', '7twonpkjfjmgqxsxpdtninetpsfjlqvv\\n', 'seventhree328sixscxmpqjlxftwo\\n', '3qpxvglmpcgxzrseven9\\n', '6onemqrvdmckhmdrzxzkxbjthreeeighttwoql\\n', 'sevenfdpqqzpbflflgph698eight9\\n', 'fivedbntvzzdq36two3\\n', '8six3fivefivefivesevenpxqpxrjqseven\\n', 'sixtwoqt4\\n', 'tmcfive4zkxhvlrvfzhkczpkvbxk1\\n', 'rbrnxxbfxmbqscltvsixone79three\\n', '88sixzqntjsfhqj6three43\\n', 'pmcfsrpknvbfhrzlvlcffjmfive32323\\n', '97rtggjhvvdfive\\n', 'vtdljvqht1fivefivetwo\\n', '88rqtpdz5nine\\n', 'rtwone725\\n', 'sghfour2eightgrgpsmfxpchmmpndccgzfzz\\n', 'kpgrhmtkxzzmdpcdzeighteight2\\n', '5bfhbmffeight6\\n', '8fqtr17czztqgfour4lx\\n', '9xnbmgqgvrtwonevs\\n', '1zqsvmcqsxjtp\\n', 'twollzsslxc37sixoneightp\\n', '6bbgl76\\n', '58zntvhvgdnh2\\n', 'three54\\n', 'fftdddqnninesevenone76\\n', '6ddqzjoneeighttwothree\\n', '56threetcp46\\n', '21six3m\\n', '214onethreesp6six\\n', '652three6\\n', 'lvc1onefiveone\\n', '6ddrgglstz\\n', 'twothreerjpb2four55\\n', 'eight8eightwoh\\n', 'fivefqckddnine7one61zlkjgxjtqq\\n', 'gzneightwovlsdvcmvj3qhbfmkdnvqone99\\n', '92sixgxsix\\n', '64eightxb2six\\n', '51fivepbxrzkdzjhsixoneightmt\\n', 'ninem3nlpdtonefivethree6six\\n', 'lvxf3nine1eight\\n', 'vvbvfvtninefive5onezgtsjplxc\\n', 'qltld5p9tgpmkzrf4\\n', '71six\\n', '2threergjrcqsixhgjtdkjpqnglzgdpqntnqtzcfcbb3\\n', '7xfj5btrml3two\\n', '979nzpjkcthcl13tnfour\\n', 'one1jseven6three7five\\n', 'tppnljghmhxplmnjgfmpfourtkffqcghxx9four9\\n', '396\\n', 'onettfdjdd5msplxhlqvv12\\n', '7mrqgcxbbtwo6seven5oneonesix\\n', 'hjnq8vbshrbxeight9sixlxznhqgcc\\n', 'sixzq9nnq4lxzhzmzjmnbtfbkf\\n', 'vfjhmf3ksgnlzzhsdtwotg9eight\\n', 'ddztjmr453qghvzrtsgf\\n', '55lzcrzseven39\\n', 'onecggvnjfpone27qrzcrxvp6\\n', '286hfzchgcgtcqhr\\n', 'ngeighteightfive5mbdn\\n', 'l1five\\n', '712onekndmfive6ntrmsk8eightwop\\n', 'hqgfive512fourhgrm\\n', 'vpdvhpkngnntqptmsevenoneseven619\\n', 'ninesevenckpjpxszfv1jzxtptvrdkfourfour\\n', 'tjlcs5onetxfkq6hzfklslthreeeight\\n', 'mxjrssqxt7one7hnffgqcgsthree\\n', 'onefsxjsnzxncsix1rr\\n', 'four725deight\\n', 'sgssrlckfourprpsix5rktmjhxksgmvdqmnkndjls\\n', '75eightr6three\\n', '6threesixx1sixsixcbxxcxvnhsgl\\n', '4fiveeightkj9fivemqzvcc\\n', 'ncgqljseveneight61nbcv\\n', 'three83pnineskc\\n', 'fivehninesevensix5\\n', 'five617twosr6nine\\n', 'ncjjfvzzmghgq8\\n', '2n48twodpnpgq\\n', 'qpgnxtvhq1jcvtxlfkfour6eighttwoztzddkmpbk\\n', 'fivevhfxpjtmdj2ninesevennine9two\\n', 'fivejtxmg4hbctmpnntlpbzfmxqgthreejbjdb\\n', '4xgrzszmhx\\n', '28four78tmrkfndeighteightwonq\\n', 'zvnxmbtjqzblnine3five\\n', 'slmt6onetwo5sixfour\\n', 'bthreenine3five\\n', '3fxjfivevcdmmphtrccptz\\n', '8fourksxxsixsevenseventwofour\\n', 'fpxvbdgqxzdzxone7threeptgzhhqmkxmseven\\n', '9six654\\n', 'foursix6559\\n', '9fvsdcbmmghfive8one8oneone\\n', 'dlxcsjmcjpmmjr64onegtkkqkmhkl1\\n', 'pxkqbgdfour89\\n', 'nn88\\n', '6sixthree\\n', '1zxszmgmfg9drnjzd\\n', 'eight8onetvgzfzfjqlqtwo2dfhtwo\\n', 'kcgzq8cxdqphsglsixfivefourdbsjjmdtnxrzt\\n', '4threenine3dpflrrtmt\\n', 'one83five\\n', '8sixthreetwonez\\n', '3fxnhqrrseven\\n', 'seven4onetwo\\n', 'fourbvnvbnineqggx5twovbdzztqccjhqqqnine\\n', 'qzcdgvninejbrfoursixseven24\\n', 'vknqxgpgxnl2mrmbxprseven\\n', 'kfggmlcht8sevenfourkbtdzstpsnine\\n', 'kxzhchjh77sixmvtceight4seven\\n', 'five17\\n', 'eightdgkcrphqsndn7fivevkstrsprktqdrdxqslmjtz\\n', '2njqktntzjtwo7\\n', 'four66\\n', '975eightnczdclht\\n', 'twofour1mlbpb6d\\n', 'ddleightwo64\\n', '2239gksfnlvtg1\\n', 'jqrmqdkv1mhsjbqhhhjrvftwofour6\\n', 'fjglfourone74nlxzmxfkbn3three\\n', '6pseven1\\n', '1nscmsconek3\\n', 'r182nine23\\n', 'rqvstbf5seven1\\n', 'mmtrqgddjone2\\n', 'n23fivelvprvxstrct5\\n', 'loneightgmlqfl7nineqrtmzdbbjmnfivepqhgtmb\\n', 'sixfivefourtwoone3\\n', 'five39hjjcjktlcsixfive7eight\\n', 'sixeightthree5three\\n', '5threeninebnbgxvnmfknp2dhbdb7nine\\n', '5cpljvtxtpbvzbdrdvsdgc23sixtwo\\n', '4fiverlflt549\\n', 'two1onefoursixmzm\\n', '4eightjksktjdvxsckgllpzdvblssix\\n', 'xsxkj81vkstvjjtm5sevenfive\\n', '8943qxpcfqpnqtwo\\n', '58qnrthreethree1eight5\\n', '6gqcfk\\n', '49lxnllkqrdgcxdrfv\\n', '94nine7six8nine\\n', '55six6dgshxnn\\n', 'sixthreeeightfourbgnhsnjone1\\n', 'nine3qmpnnzldoneddthreethree\\n', '14ljmrtmhmeight8\\n', 'onetwo4eight31loneighttc\\n', 'jnkg8lbjjvclcvmbseven3tdvnmrp\\n', '7qxklg\\n', '7dtwosixthree6\\n', 'sevenfivesixsgltjpcnthree2\\n', '15rzct\\n', 'tfn4ninevt74nine\\n', '1fiveseven68hztpthreexlbbgbqffvthree\\n', 'svqjgxnmxlpfjc95\\n', 'nine9bn3njvhp9eight2\\n', '92six1threeeightwot\\n', 'sixfour2nine\\n', 'nine1bstseven45snndcpmtbq\\n', 'onesix4rkrglcvmvb\\n', 'tjccltxqljfourcfbtcqtjd1\\n', 'fourgqjb7sixeightseven6\\n', '6four99nine8dfjp2dhzsfgt\\n', '7kfgzrxgm7\\n', '3nn3\\n', 'eightfzqvgrr1skhnqntgvv\\n', '8fmghkjzmrkpthcrk6eight9two1\\n', 'qgvgggrmnine3rl9rnf\\n', 'seven6jvjfkr\\n', 'ninetwofourlsbdlmlnsixb9\\n', 'khqtjbkpdvrdnine6three\\n', 'pzninebmxq1onefourqtztvzlxf\\n', 'seven1sixcjcbfv3ninenine\\n', 'ngtsvjgmcg5mssqdgtsdrqff\\n', '1vshninetwolfbfhckb1vfkxv\\n', '1six3five\\n', '93hsvjggzqcgjbqjvpnine6\\n', 'dtwo4onefpthree18\\n', '4fourfive\\n', 'nnplsdmt962\\n', 'five83rzgdpc322threesix\\n', '3hcqbfiveppvzvtcbjnvqjz\\n', 'khh4one2sg\\n', 'pdtltjqgqzfive8sixone9vhnzbvfnxz\\n', 'xtrxkfive83three\\n', 'three75kjjxsixfivefive5scjbbflf\\n', 'ljfcdxktbnmvbspglnjfive483\\n', 'eightonespmnrznpptmjvh68eight8\\n', 'qznqkgvkhlssszmdlvjdjjtbgz2\\n', '6sixfourfbxrxfbv9hldlseven\\n', '3qzjrffxdthreeoneightbc\\n', 'three4tfseven2sb\\n', 'nine87rvkdgmpt\\n', '84threetwobjfzvncrkfour\\n', 'eightsix9plxkppkgpzkfive\\n', '2eight4526\\n', 'hdmqlgnphg1two11\\n', 'ninekxlrjmmkm34sfvrdlb76lkbzprhnchrz\\n', '9one26txfggnctgfive\\n', '7pzrqmfivev\\n', 'ddqknbqxnrxlcrhcmhmr5\\n', 'eightsix121twohbtkjqljkprzdsmnv\\n', '7eight2twoqblcpqqfckfour1\\n', 'cbnpcjljfninenine9\\n', '73eight3eightzfzjs\\n', 'szfsgstdmtwo2sixjkgxrxbtpdbkt\\n', 'one722\\n', '76eightrvs\\n', 'five6two7rcss5eightone\\n', '9ckcnzponebnpjlznbrfxnkvfpsevenonebz3\\n', 'sixninedbtpcrz148tzvbhxjk\\n', '5zlpdbxk72twotlp6qbkpvjx\\n', '3three4sjgfjzzone8xmeight\\n', '56tkmpbmsix5seven7\\n', 'nineeighttqrntnvxrrbkpftwovclttztwo7two\\n', 'bsxdzgxkcx5five6twoqlbqgjzbc\\n', 'five22hhlpfiveeight8vrkjcstx6\\n', '2psmkkxflgfoursixhjmdxfccbxqb\\n', '25kljltwoneggk\\n', '3fhtjzffgfph8twozr\\n', 'eightsevenfbzlr7rqfivefour\\n', 'one3fourninerl49rlvgnmtlcp\\n', 'vrzcnn79txgxf5five2cftclqsg8\\n', 'kbbptjpbvvzcxrsix45prvjcq\\n', 'one3ninefour2vcpdfkbnineeight\\n', 'lx1\\n', '1oneqphkrtwojczlpmcjseven38oneightgm\\n', 'xsnzjbzfmb685ninezmgzfkzvpzj5six\\n', '547six\\n', '21five6z9\\n', '5nqcsix1seven9\\n', 'nine4fbfprrfivevdvjphcqkfourthree\\n', '9243five\\n', '84zmtwothree\\n', '5c\\n', '17three\\n', '5gvfxttjch74eight\\n', 'ninegs7hxmgmrzsx\\n', 'dzxzfknlk5ddgsbsh\\n', '475cbbqscvfive\\n', 'twovjtkcxpxlvqhvgsqfzmthreecg1rctndlmm\\n', 'nine7eight\\n', 'eightoneninethreebccrmone9six\\n', 'twohbjxlfxdd4462\\n', '2fivesixdrcmbksthree\\n', '24sevenk7\\n', '3sixsix28\\n', 'four66vvjvqhhbhr4\\n', 'seven4fourfourprhplxheightxkgvgghlseven4\\n', 'ninegtsqsnk7fourzlmnv9\\n', 'gpr3q5twoninebqnr6\\n', 'rxhkdtwo8three2\\n', 'jljtwonesevenkckbv9four\\n', '4scdjjmkpf33\\n', 'vjfourzrlthreeseventbbzrm8n\\n', 'two1fourxqlfqbhszveightrqcsprdonenine\\n', 'mmppkfd745ninexfour\\n', 'fxeightwo5tftddm8onexpeight\\n', 'xdbmf415cq92dhmmc\\n', 'nine3onedcvqdvhtqninepczfhhgbmzeight2\\n', 'ffsix6seven5ninelg\\n', 'xtzsnzlvvztq64zhkklcgjrfourlztxlbtgxn9qcx\\n', 'six1nbqxmq2nxhtvrnrbsflzlztghfzjgfnhmeightone\\n', '558\\n', 'xnhsbblmlp9sevensix\\n', 'jz8eightonemrbchzmhrjcv\\n', '3twoktr\\n', '6fourtwosixthree\\n', 'sixfivefour7\\n', 'ljbx2nine63four\\n', '889g7sixtwoone7\\n', 'four4one7cztqmheightwompd\\n', 'ctqnhkqzxgtxrgfzvone45eightfbvjlgkc\\n', '8eight35two5\\n', '6pvzljrvseven5eight\\n', '7zhgjds1\\n', 'mxv7dtbsbzfive\\n', '4sqhcsjb6\\n', '954threeoners\\n', '63three9zltqkmpbqqpd\\n', '6sjknine6phmcxrv1three\\n', 'threeoneprqcmzrbjjvlvsf2\\n', 'gbgfr2fivehsplpdnccxkfz\\n', 'ninefnpxtgzhzvdnr7rftghqrhpv\\n', 'seven2fourfive2\\n', '8sixeight\\n', 'gcfjqqgbcdp33five42q\\n', 'fourfourbkrj3fourfivevlpvqbkgvxcfnlnbs\\n', 'tcgzqgqq77two\\n', 'nvzgmddmhseven1zbdfjrt17\\n', 'seven8fiveninethree48\\n', '7five8\\n', 'nine3twoeightfgdkbtph\\n', 'dzlblf4ninetwoqqj4onetvpbbfdcbvtwo\\n', 'mcmbfvszjltlzdg7zxzzlrrvfbthreeninethreefdtsvclt\\n', '8mzcseventwoeight9kjchpd\\n', 'sgpddvmkntwo9two\\n', 'sevencgqkbcsh5\\n', '13nine723twofour\\n', 'twodpdvppxntseventwooneseven1\\n', '9jjpxjpxdxxkqjseven\\n', '4seven1five\\n', '2nineckczklc5h\\n', 'threekplnxmcjffhpfdhhhvsvsx62zrmbcpgj\\n', '35\\n', '8gthree\\n', 'nineffourninethree6two8\\n', '1vsmthree67fourchzmone\\n', 'bxnrzblqnv9xprtmvnfivevkdvqmvfhgxconezvzjlxgjhp\\n', 'xtqsevenfive7fourmclszsmnqz5\\n', 'vrxnrvfivegjlqrbdtkksz9\\n', 'ninefszbsfnhbzzqhbkvxjfive7sixfive5q\\n', 'eight38nklfskv3sb\\n', '5six4three\\n', 'onezhpqfxgsz3stfsldzdhh\\n', 'qdtwone72\\n', 'fttvpkjsf8\\n', '8twodxeightbltlrvjjbs\\n', 'sixninesixfourxzvf5\\n', '85twokqdh2skxgnnnnsevenzg\\n', 'lsjqvnfive4eightjbjceight3\\n', '5eightnineglvjmdgjvt4\\n', 'cfhxfnvnsixfour8twosixsixtwo\\n', 'hmp27seveneightsix\\n', '5two6\\n', 'd37sixeighteight\\n', '9fdbkdm86two\\n', '4threefbsjzzkthree723\\n', 'dgzvfszqpkfpxmvqf7onethree\\n', 'eight2fkskmljrg12kschgbrbtgmkbdzseven\\n', '5sbdhqrsftwoqlfqblrvgghbps6ln\\n', '2pkmljtwospqdnflmj\\n', 'nine1eighthgccrfourseven9\\n', 'eightjbptmtmmvsevenseven6fourfive\\n', '6threeseven6eightdsbpjzc9jsmtxdfour\\n', '4ninextnv\\n', 'threeqjrdnfjlpnine55\\n', '1psdrj3g2msfsjktgkv61\\n', 'sevenfive9xhdcthreenine9jctjthree\\n', '636\\n', '2threeseven\\n', 'nnxzzcgrhcgtz4ttnfive\\n', 'seven9sixone2fbbdfqtdfg\\n', '4jgdxjqtbqzprpjdbjc2fivethreeonexlgkxtsdmcrrh\\n', '4threepvzzhkmlmbhzhmtb\\n', 'm5xgplrjqlztvg9\\n', '59s68ninerrhkrkxnzm\\n', 'hknsnsf6\\n', 'trgpkmkbtlslmpqtdxfourxjspnnmhdtg1nvfxpllcrrbzjrhrstn\\n', '92twoj7two4six\\n', 'tseven377\\n', 'p49five2\\n', 'kpffiveeightcsbjz39\\n', '8sdmbrxbk\\n', '1vxknsvdqnsixkfsevenzqlr9\\n', 'fiveznrsqthpbddfcpbvhhhjctp9\\n', 'plbcxgkd4tmprsxn84hdrninetwo2\\n', 'twoqzqxbkm23brhsppdnvksixtwok\\n', '8one5\\n', 'six45tdxfmcr6\\n', 'onesix4\\n', 'fxrl57561ktxfsg\\n', '89nine54fiveeight\\n', 'three62three5one\\n', '6mjqxh4scvddlls\\n', 'nflfourzrrgpvftoneseven43\\n', '7sixtf\\n', 'sixxhxkvgnbz3rbdnvgf\\n', 'ckq745ninepqk\\n', '1snlkqn\\n', 'ninetqvcllfvcfs62qtt6seven\\n', '59khlmz\\n', 'eightdndsvdcqneight9twonenf\\n', 'zgcnqqmlgsmfzqbkllvsknsevensix5\\n', '8qqxshjnnsp\\n', 'xfvttdnxhz4sixsjkqhpfszn212three\\n', 'fivelssnmckseven4ftqt\\n', '2qsqpjmcbtvxjgqhhk\\n', 'tztwone749ninelncrmvthfourpgcbxzxvs\\n', '4threecgnjpthnsgxhxbffour8eightsvmjkg5\\n', '458sixseven6one1smkjk\\n', 'seven4fourrgqffqthree7\\n', 'jhpxqpspbsevenhpfnrpdvfoureight5nsbsfscjlzfive9\\n', 'sldxjjnjt5dlhdtrmsixxlmgxhvpscqqthree74\\n', '8pvfhtpghtwo6\\n', 'nfknjlfive8\\n', 'eight7sevenseven9pdvhsevendzpxpghzr\\n', '9fgdrgsgdhtwo7238\\n', '8nfjgxpcbbmjrhh9765dnlbsfddhf\\n', 'tkqfc7sixsixsixggqsevenzrjrxtrnh3\\n', 'fivesix9zmxpjk\\n', 'four1kvhvnhjcgz\\n', 'one6sixthreenh4\\n', 'onesixfourtzkjjlnine1kq8\\n', '1xkl\\n', '8six5zbonevbtbmvtjvlfive\\n', 'zmggmrj9eight\\n', '5sixeight23\\n', '19twobshhmblpkp68\\n', '7fivethree22four9tghbrr2\\n', 'gc3\\n', '6qdkjxgpseveneight1seven\\n', '7sevenfivegpllcnbvf3khjsqtwoner\\n', '3fivefive417\\n', 'seventhreefthree96hbrjfxlkrninetwo\\n', 'vhnlzrv4gbdldncbgqrfd5\\n', 'gfjzvfchlzrnf8fivesixthreeninesevenrsfptjcrb\\n', '6nineninelllzx\\n', 'sevenckthree1\\n', '8one77four8sixnsmbhbp\\n', 'ltcfm386\\n', 'bcncpxhhgbdtxh19kqkpffqx6\\n', 'pr95\\n', 'eightsix7gbtwofourvclrmgfvph4\\n', 'four6bgzbcthree1kjhkvlh\\n', 'lbffslczqninesevenr6z\\n', 'three6lpjrgbfivexzfkprdf\\n', '31kmnnffourtwo7dkmmlrdsm\\n', 'six7fivenbljxg6onesevenzmknhdfive\\n', '32five5sggfive\\n', 'two4four\\n', 'xlf4rtftmttzk4fhrcbxmxlsjzfour\\n', 'fivecxrsccjsgdfpfdgpfsix3sevenqgntlgvds\\n', 'pbdmldone1s\\n', 'threekpzzth3fivernp\\n', 'glglvsnineckckdblscv2one9two3\\n', '52cvnxlxqdoneone\\n', 'kjdvcklltsttlncvgrfive9fkspxfhchml\\n', 'sfxxlhkbhqnvskxd2five\\n', 'three3ninevndkz2two\\n', '3two9six9sixfiveoneightf\\n', '36xq\\n', 'twoeight76\\n', '3kfsr1tworhvpqn7zmrp3nine\\n', 'tvvtqdcx8eight6three6fqsmnd6\\n', '3three7\\n', '2five3eight\\n', 'tmzhzsninetjjpmqdrkh6seven8threenine\\n', 'dsvnxx6\\n', '8xzllsdpvrjszlhlmrrsixfourninefzncn9pkgdtlb\\n', 'four2eight4bdxhqxnjlfg3hkbkp\\n', 'onehcnf9\\n', 'twosixktskmcppzx4\\n', 'xzeightwo1doneseven7sevensix1\\n', 'fourgbdz85nine\\n', '21xrsphxlr711mjeight\\n', 'one654four\\n', 'six4sevenxl\\n', 'sixmqhtms6zp99\\n', '497twofour3two\\n', '6twoxrjvzhldhfour69twofjjtskmzvls\\n', 'px98skfppldqkpsix\\n', '7qxone8kzzdlqdmsixtzrhrzrhpeight\\n', '6eightmdsbrvhnine\\n', 'onesixjxzx1jbfnjhm3\\n', 'threerbslfnzsbtjxfcmtxzjtvbdjnqj2\\n', '4lbmlrptworkpdtfvnfour\\n', '2threelkvzmghvdm\\n', '6vrvcbbqv77\\n', 'gczqmslninepphpbvd896\\n', 'seven77nsnzeight5vzgvmfrxd\\n', 'seven46fourfive1ninechrlthdhvnfn\\n', 'sp2xngkbkqbpvqgd57onenine\\n', '7oneonenine38hpqntxsz1hxvc\\n', 'nine3sixvrsrvfrseven4\\n', 'seventsvmxxn5sixgm1kdbrkcdfive\\n', '5eightnfblfbxrkrrmflg5\\n', 'fourxltzjthree2\\n', 'steightwojllrms39threesixvjxflgzkm\\n', '25ckxsgcgxjf\\n', 'lpsztggf4nine73two5\\n', 'drktgkbkxlqlfvhvr8onesix1qbgjjtcf71\\n', '4eights14five\\n', 'jqjbzqvxcjqjjjhjjk8llseven1knphmcvnjcsfdzp\\n', '9qrthreeeightnqpnninexgprcrdsn1rgjt\\n', '59snmrlfxhsix\\n', '1286\\n', '72five81gnc3\\n', 'sixtffnjthreevmhc64one\\n', 'three96fournine4ninezr\\n', 'lrzcgsgdll99\\n', 'qftkzxrlone8sixeightfour\\n', 'eight7seveneight\\n', 'kzkoneightfbptzkfive2sgbcnxg92\\n', 'v5hdone\\n', 'onevzfour75cmzkfhklp\\n', 'cxklnb9fivetbkgjdcvjhqgnmdgrjkmfjqqbjtrzqfdreight3\\n', 'six6twotwolmggvvxrtwo72\\n', '2kcrxxbzkssixnddqsqsk\\n', 'rpjglmp8onelvzbgvbjxdthreeonelvxdtqnz\\n', 'sevennine6bvdtwo\\n', '16mseven3twojv\\n', 'hhconeightxrnfvbqhseven3vs\\n', 'sixnine17\\n', '2lcssbzf1three3eightbvqrsmbh\\n', '5onezrsvkbpnsix7zjggs4\\n', '3eightfive\\n', 'cpgtwoneonerhgncphbfsrfplbfhxrmmpfive6\\n', '4vbsrvggrzxxcxzeighttwo\\n', '52nine5\\n', '7fourkczfpeightnine3eight\\n', 'zzleightwo2onecfdsqthreejbcthreerbngllphhsixgp\\n', '3sixntzmjnrrone\\n', '3threeeight6bqcsdklzpfmbgxxtjs\\n', 'rrbjsghzclnine833\\n', 'cfbrmlhqvtpxtpdbbcjj6eight\\n', '6twoqmhkgpktkdprrqxpbphjn\\n', 'cmfv1eight41\\n', 'fsfdjhbeightfoursevenpmqlcf6mvfive\\n', 'qmvq9sevenseven7\\n', '1sevenjqrsevenfmrsncppbr1six\\n', '1eightvcpbnsqhcv56eightzthree\\n', 'five8dnxkdbsxvd\\n', '3l76cbpbdvsix\\n', 'vdvnbr1xzlssevenszdktcqfsqxtv4\\n', 'sixtwo9qngsslvmbv39eight\\n', '66fjjnc3threexqdctdtkseightbqpphzzm\\n', 'hsqcqb1sjkdhhdltoneeight5one\\n', '1llpgqdfgseightfvssfive\\n', 'znqqgtlmvxnlcgxr4fourscgzzhz\\n', 'eight9onetx5vzvqln8gxblpkmtkhcl\\n', 'eightczhdvmrlm5pmnlnlnine5hxzmlzntdmqldbnfive\\n', 'one16shmhxdvzbh73dsvgvtpddls\\n', '5lph98flssjhz\\n', '2psmflmhcbsrvzfive176\\n', 'qzqz8sevenone\\n', 'fmhgvseven7fivejdqcsznnone\\n', '415dsgfivethreexlfzccgn\\n', 'qplzvmmhbh598ghnhrmzvxblxncdkrfntvzdtvqr\\n', '8fdkghntwophfnpzjllfr9\\n', '6rfstqcmdvq9\\n', 'nmcdsbclthreeonekxnrvqgjxpsevenfour3seven\\n', 'one72rqpfourdcqrlqpcthree\\n', 'onefour6\\n', 'eightoneqqrc18\\n', 'nine3nrscbxlx4fchjdgnlvvfrnf7jfffbggjt\\n', 'four8twofivesbpgjnt\\n', '8sixtwojhjvhfive\\n', 'ninefg8xrvpbpgbklkbfrqgdloneeight\\n', 'pbdggcfoureight5rdsssnj\\n', 'gxqzltbzfbhfdcqeight3dggjvh9xg9jxq\\n', 'fm6ninesix\\n', '1four8xkdjzkfthone77\\n', 'fourfourseven514\\n', '2vfq9vfzxfmsfrxjxhfqrpc\\n', 'zckzxj45onep\\n', 'nine925\\n', 'nineone1eightsixkcd8ndvhj5\\n', 'fourfoureighthbhrnsix5seven\\n', 'mpr9sevenzm5\\n', 'two415\\n', 'two2ddgkzt66sevenmdzhdzhdmzjmvrrnd\\n', 'vntvkmtqm252\\n', 'bktbrctxtwoqbjls7\\n', 'seventwo26\\n', '22threezlhpkpmzsnbshpgt\\n', '1pktkpfppxbjf8\\n', 'one1jzlvq\\n', '24fivek4\\n', '84two\\n', '1sevensixeight13pvp2\\n', 'xvndrn85k5nr6nzgcdhlzvf8\\n', 'ninefour1\\n', 'rhztwosix7\\n', 'eight4five5sevenlzbhmsprsj\\n', '7seven1kmzsjl8jpdssncpvcjxczdvsk4six\\n', 'zcmpfqzfxlfsxkmscs4lctqonepjkg4nine\\n', '8onesevenzlxflf9four\\n', 'threefoursix3five\\n', '292mhsbgktzmlqk1fourone4\\n', 'pnnftwo5\\n', 'kpjmxmseven6\\n', 'fiveonetwoqbptwo4hmzhhfmvfqbgjk\\n', 'one4bkzjstxgrv2dvzbdfztfive7three9\\n', 'monetwo6fbxbphkpdtwo2ninenvphvnxhxk\\n', '6mgmbthree9bnine3seven5\\n', 'eightvsfnsdkgh7fourninernvkrfcx\\n', 'fourxglll561\\n', '3eightsixeight72six7\\n', '4fiveflsgrgznjfbsvgvbrgnm\\n', '763\\n', 'nine57qmhfgctmnp\\n', 'eight579xgpsr\\n', 'sbpbb215jnsfoursix\\n', 'dfghm9mrcpfthree974\\n', 'bh7threeqvhttfqt\\n', 'seven7kssmdclhfd\\n', 'qdltfdhsvz5threekftjfdqbn\\n', 'four8dxncfjhvpsxdseven3kcpmpfvnfb\\n', 'nine1eightwox\\n', 'vvcfdjlpcrfnnmbcx4eight9mtcfqqqfl5fourfive\\n', 'qbcxpccssl9kvqtjncjdxsrpp8sixbnmq\\n', 'sixonexjgqthdnrpfivetgnxqv1\\n', 'eightthree33ngpkqtqgtkmcfgqqgj313\\n', 'onezfnlseven1\\n', '2threefhcs\\n', '3nineeightzmpvjqrvcb1tkmchzjtsrfllv\\n', '58cjnxhzfknnkj4ninezvskrvrc\\n', 'hthree16zdtbfnlx\\n', 'tzqcksevenfour3foursix5\\n', 'qbbzz1threesevenone\\n', 'onegfzhlthree12\\n', 'gpjjzfiveone21qbrjdrz7\\n', 'xcpjznj54fivesevenfiveq\\n', 'gsevenflcgfcmqtrzstrmnine9two\\n', '7nrsmkbqffnnvfpjgb\\n', 'tfhnnmpbzq67six\\n', '52jhltfzqhfprmtgbmhg\\n', 'vchpblqmsvffourzkndtsg7\\n', 'eightsevenvgfpttr62hmfzf4f\\n', 'eight4four1tsvfq\\n', '4sevensix\\n', 'vrkmjrrxnbgjbxfqxllp17four1bdm6\\n', '2kqfd4threefour5\\n', '44m\\n', 'foursevenrxzjfftwo5twothree\\n', 'eight4xbxqplmknhjhzm9fivetwozjrzjp\\n', 'twojtjvdmgkjsstbdgl3bhhhzvllm6qxpzxjbgn\\n', 'sixeight3sevenone\\n', 'sixfour5m5\\n', 'fqlftfrtsj9\\n', 'rpjlhht2xxnnkqktkxteightsevensix\\n', 'five3vbklfdmpsevenone2thxcmzktlz\\n', 'fivefour7lxhg\\n', '49gcb8fqc3fnstcnmdneighttwo\\n', '2vd\\n', '6tfpxszrkdsgphdsblkqfk\\n', '43rjxkfgdm4gkxnvdfxs\\n', '6225eight3\\n', '8one35four3\\n', 'prsevennineeightfour8\\n', 'twozqdxfg363zczthree\\n', 'eight9vcncjcbxhnfeight\\n', 'meightjdg2vp73\\n', 'seventhree9dzdhprp\\n', 'btwoninegnfpfhxkvv3\\n', 'threegkxmmxzsmblsjfds8seven\\n', 'crbbpggzbfsjb8kqqgk9fourflghlzbgseven\\n', 'sixsix85eight5\\n', 'nmrvnmgdrtwo8three\\n', 'gqntwoneseven95eight1vtthdng1cgvxlvstgm\\n', 'oneqcftjqnxckthreegtsxfjbrmv2\\n', 'threekdfzqhqeight54four7twonep\\n', '525xtwomtcgmfhbjninepkpjjsf\\n', '1sevenxvgjdznvnjftwolvmjmg\\n', 'ppbgncvclfive45\\n', 'three6386qxzsvxpbz4onejt\\n', 'szxc93tfh\\n', 'zdxgxlj9nine\\n', '9kkmgczf\\n', '4six3six97qcxxgmppgkll\\n', '6fivethreefourtwo\\n', 'nine9qpngcdftwo1seven7kzsjxqbggxone\\n', 'sevenninegfjkxkbptwo7nine3xjgsxh\\n', '6srqfplffour81threefive3\\n', '869\\n', 'nnsjzlrjcsnpd7zcfive\\n', 'fivenmndbmjngpsvkjsbqxvncm6qjzcktnsevennlxpbkchk\\n', 'three4eightwol\\n', '2gnbninedt\\n', '1twoninefour8\\n', '5lb\\n', 'cdczlxgxpdqvkcqbfivet3\\n', 'nxxxreight158mvrhngveight\\n', '811dsqsscjgfive2\\n', 'nine8nine16gxqxcj6three\\n', 'dqjdfksftwohrrhzlcxd12vblpmsqrrfourshg\\n', '345dstjsbllcnine\\n', '4three6vnzfssrqrg\\n', 'mlcmlvlmcseven72mcqlzfnpm2\\n', 'ninegflbrbv6twosvfive\\n', 'nineninerjmnhlthreenine3\\n', 'zvsqxdggl9dxppmcmc389fourvpeight\\n', '2fiveeighthtfvpndpn8mt3two\\n', '33tshvcbgtggone6\\n', '1sevenfivextsfpsix\\n', 'frmhtjxcnztfhtgtr5\\n', '8jjsclsqgfourthree7lvct75\\n', '62vqnhqct4\\n', '2jlvv55\\n', 'lszrone3eight19ggpnine\\n', '8fivexxxrkzrppslbf8threexsskbkjcc\\n', 'pvpxjrnnp11rmgfhbpbninesmbfpcpseven\\n', 'seven8pfzgsbgjqtneight\\n', 'rdksixnzmxgppj6qkftmcthgl9\\n', '32three1\\n', 'bnxd75\\n', 'mzlcnxgdddfpqkp6hjjpnnine31\\n', '135gnzr9brblpnk\\n', 'vvninerkskndtjq8zst4sixnine\\n', 'fivexdstdtfshcchblmknlneight5fncvl\\n', '7mhjsq7ninetwo3tbnkglngltwo\\n', 'threeninesix5567\\n', '2four14fzrsjr\\n', '9sixkl9\\n', 'rftbrjfour4\\n', 'onemtjqqdrtjgkbv1plcgtxtwoonefoureight\\n', '6fourqsgfkqdnspzstbrhzxbthreeqxrshrfdbk1jrxptfhjfld\\n', 'sevensix9\\n', 'one75two9fourxdjmzjv\\n', 'one8rbvxt\\n', 'skzg13\\n', 'ninesevent3\\n', 'mcrgx49qbpzcqqbx\\n', 'threebsevensix9nine54six\\n', '1bjgnlhtxgx\\n', '71crfour\\n', '3nkjflkqpjz61gzsffxlncmxg8\\n', 'rhppr943fourmmjm\\n', 'rvmthreevbvxqhrhglvrh869\\n', '6sixfivexgshnkmx26\\n', '3srgvnbcsreighttfnjcs782\\n', '87ninenjhxpnrhljkvnms3\\n', 'foursix1rfgvmxqfrninekthjjk\\n', 'fourtqbjqcmsgnine1twoxgvqdhbnloneeight\\n', 'hhzdrttjvbzdngnqv2\\n', 'kbm71\\n', 'qzmtwonexlzbv2eightfrjmhld6\\n', '27mdxfj49kzkzdspbxvktm\\n', 'three8cvfqmntngvmhddgqdgonetjgnnzggjz9xqlxffgsc\\n', 'ckd3fourtwo5vzv\\n', 'lhbvlseven41bdrkzmshkxone\\n', '6fourthreefourthreeskhdk\\n', '377dtljbhvfdr4ngqdqfbfournsnt\\n', 'rvbkddqrfm8rpfive\\n', '1ninethree\\n', 'zjhbkjrb5qvtjbcgpkvksbsszpqjfcrgrcqggdtc\\n', '73nine9pslhnpmxjjfourthree\\n', '91nine5xndjkx7\\n', 'four17crgvnqtwoxqxfcsbbbsjlsjhsfll\\n', 'five9twobqlgcdpk4\\n', 'pblrzfive7ninetzfiverhlslrsone\\n', '7bltone\\n', '3eightthree16\\n', 'nineone54hspfngxzhzh\\n', '7sixzxqlsqqsvfouronethree6\\n', '8kklgfmqvntwonine9\\n', 'dznsskrrfchdnm2fxcvqvf3eight\\n', 'cmfkrlslhgzprgkfive6seven\\n', '4threethree\\n', 'threesix2fkzsjkr6six\\n', '8bcqmshjlnfivecrjtcsznrfive\\n', '11nine3six\\n', '326one1zvdzc\\n', '1sjttzbstpx6sgfzpgdltxseven15bvrbmccbzkbgdnkkhpd\\n', '9bbpksbnpdm\\n', '3rtcztcr\\n', 'bk1sevenjbmncfiveninejp\\n', 'seven62hjvttpk\\n', 'rsnqnlgfgrxk8sfxhrlgmc1jnjgctclr7\\n', '3sbmxlshf5five4\\n', '8nprjs\\n', 'three89\\n', 'four399ljmdptjbgkthree\\n', 'cthxllrzbseveneight7four\\n', '3gzvsfnxfive\\n', 'pjbgbnine1rphbcrhgnine2\\n', '56fourcsfpfnntpkfcsqkkp6oneightlsv\\n', 'fourmn5kqgvk\\n', '96twoseven\\n', '2bk\\n', '8nineninesevenvxfnqlsrnxbr\\n', 'fivetnxmljplldd3six\\n', 'qtzcgtlh9\\n', 'gtnkglkd3twoqgqhj6dpfgqtpptg\\n', '7jvxsltntrksjzsix\\n', 'three95fivebpvtzh\\n', '3kxxfvsseven\\n', '157xvtnfkqnsbvpxlrdmjszrpmpfive\\n', '7threeseventwo7twoseven5\\n', 'rcmzjxg1csdhdkvfhxppsixfivethree\\n', 'nvgfnine38onezdbhhgtmshc\\n', '2ngoneninex\\n', '1eight57ggvqjmsixonefour\\n', 'dhq7hzhmbzdhzjxhdtwo32\\n', 'ggdone3nbmsthreefourninefiveoneightpr\\n', 'fourvzgnfnhkkp2\\n', 'j47three8sevenfivenfkd\\n', 'twotwo4seven1fqklblqbdxcmtch\\n']\n"
     ]
    }
   ],
   "source": [
    "import numpy as np\n",
    "\n",
    "# read in file\n",
    "with open('calibration_values.txt') as f:\n",
    "    lines = f.readlines()\n",
    "print(lines)"
   ]
  },
  {
   "cell_type": "code",
   "execution_count": 3,
   "id": "72f1b6e5",
   "metadata": {},
   "outputs": [
    {
     "name": "stdout",
     "output_type": "stream",
     "text": [
      "[68. 82. 54.  4. 26. 49.  2.  2. 41. 56. 22.  1. 76.  2. 82. 82.  1. 73.\n",
      " 36. 34.  7. 66. 81. 59. 19.  3.  6.  7. 63. 53. 28. 68.  8. 23.  4. 25.\n",
      " 25. 96. 35. 73. 82. 76.  8. 35. 23. 99.  1. 94. 91. 64.  3. 74. 52.  7.\n",
      " 21. 54.  4. 93. 72. 77. 58.  2. 31. 92. 77. 14. 24. 35.  4. 81. 57. 85.\n",
      " 67.  1. 73. 62. 49.  7. 77. 65. 51. 98. 47. 94.  6. 82. 78. 65.  5. 68.\n",
      " 14. 22. 26.  8. 82.  2. 82.  8. 96. 52. 56. 25.  8.  9. 73.  1. 46. 72.\n",
      " 16. 37.  5. 11. 53.  1. 43.  8. 14.  9. 76.  4. 79. 85.  8. 23. 11. 93.\n",
      "  4. 84. 46. 21. 83.  2. 15. 15. 12.  8. 61. 82.  1.  6. 54. 63. 96. 94.\n",
      " 37. 18. 73.  2. 76.  7. 26.  2. 64.  3. 57.  1. 22.  7. 89.  9.  9. 49.\n",
      " 35.  6. 68.  7. 12. 47.  7.  2. 99. 93. 36. 95. 13.  7. 68.  3. 25.  9.\n",
      "  2. 23. 28. 44. 27.  1. 54. 25. 57.  4. 47. 83. 35. 62. 87. 96.  6.  3.\n",
      " 96. 75. 51. 27. 74. 22. 81. 33. 56. 83. 99. 32.  3. 59.  3. 25.  4. 22.\n",
      " 74.  2. 83.  7.  7. 38. 39.  6. 69. 33. 83.  4. 41. 79. 83. 33. 97.  1.\n",
      " 85. 75.  2.  2. 56. 84.  9.  1. 37. 66. 52. 54. 76.  6. 56. 23. 26. 66.\n",
      "  1.  6. 25.  8. 71. 39. 92. 62. 51. 36. 31.  5. 54. 71. 23. 73. 93. 17.\n",
      " 99. 36. 52. 75. 89. 94. 39. 43. 59. 26. 26.  5.  1. 78. 52. 69.  1. 56.\n",
      " 77.  1. 75.  5. 76. 61. 49. 61. 83.  5. 66.  8. 28. 16. 29.  4.  4. 28.\n",
      "  3. 65.  3.  3.  8.  7. 94. 69. 98. 61. 89. 88.  6. 19. 82.  8. 43. 83.\n",
      "  8.  3.  4.  5. 24.  2.  8. 74. 17.  7. 27. 66. 95. 16. 64. 21. 16. 73.\n",
      " 61. 13. 13. 51.  2. 25.  7.  3. 37.  5. 57. 53. 49.  1.  4. 85. 83. 55.\n",
      "  6. 49. 98. 56.  1.  3. 18. 41. 83.  7. 76.  2. 15. 44. 18. 95. 92. 91.\n",
      "  2. 15.  4.  1. 76. 62. 77. 33.  1. 81. 39.  6.  9.  6.  1. 13.  5. 11.\n",
      " 13. 96. 48.  4. 92. 82.  3. 42. 89. 83. 75. 43. 68.  2. 69.  3. 42. 87.\n",
      " 84.  9. 26. 11. 36. 96.  7.  5. 11. 71.  9. 73.  2. 72. 76. 65. 93. 18.\n",
      " 56. 38. 57.  7. 56. 26.  2. 25. 38.  7. 39. 78. 45. 32.  1. 18. 65. 57.\n",
      " 29. 59.  4. 93. 84.  5. 17. 54.  7.  5. 45.  1.  7.  9. 42.  2. 27. 38.\n",
      " 64. 44. 79. 36. 82.  9. 43.  8.  1. 75. 58. 42. 32. 65. 69. 12. 58.  9.\n",
      "  8.  3.  6.  7. 23. 87. 47. 45. 85. 65. 71.  7. 46. 94. 69. 61.  2.  2.\n",
      "  7. 22.  8. 32.  3. 77. 17. 88. 78.  3. 44.  7. 89.  9.  5. 13.  1.  9.\n",
      " 41. 25. 62. 35.  8. 68. 17.  9. 75.  9. 75. 33. 54.  3. 72.  8.  8.  5.\n",
      " 82. 43. 54.  8. 27. 56. 37. 96. 43.  7. 22. 56.  2. 19.  6. 69.  4. 55.\n",
      " 11. 99. 66.  2.  4. 92. 42.  4. 59. 58.  6.  1. 94. 37. 42. 39.  8. 19.\n",
      "  9. 42. 23. 85. 46.  4. 51. 84. 65. 64. 43.  7.  3. 75.  1. 66. 59.  9.\n",
      "  5.  8. 42.  4.  2. 79. 45. 41. 47. 59. 54. 86.  8. 79. 98. 85. 73.  9.\n",
      "  1. 64. 18.  1. 85.  9. 53. 18. 72.  3. 61. 73. 37. 96. 45.  8.  6.  1.\n",
      " 88. 36. 16. 95. 74. 61.  6.  6. 37. 76. 35.  4. 44.  3.  1.  3. 23. 52.\n",
      "  9.  2. 32. 39. 36. 76. 33. 86. 37. 23. 68.  6. 89. 23.  9.  4. 11. 85.\n",
      " 21. 64.  4. 69. 43. 69. 98. 78.  6. 13.  2.  4.  2. 67. 86. 75. 41. 27.\n",
      " 71. 34. 51. 55.  2. 39. 25. 45. 81. 44. 81. 91. 59. 16. 73. 64. 94. 99.\n",
      "  8.  7. 22.  5. 75. 93. 62.  2.  8.  6. 13.  3. 17. 23. 54.  3.  6.  4.\n",
      " 55. 73.  2.  3. 36. 83.  6.  6. 11.  6. 97. 11. 16.  8. 36. 14. 99. 63.\n",
      " 15.  1.  4. 98. 55. 13. 58. 26.  8.  7. 45. 58. 89. 69.  3. 72.  6. 18.\n",
      " 37.  8.  8.  8.  5. 39.  6. 17. 54. 29. 45. 95. 15.  5. 95. 45. 26. 22.\n",
      "  7. 26. 22. 18.  1. 24. 84. 12. 88.  1.  7. 45. 74. 44. 89.  3. 24.  5.\n",
      "  6.  4. 49. 62. 65.  7. 51. 37.  4. 73. 57. 59. 25. 94.  7.  7.  5. 83.\n",
      "  1. 45. 98.  1. 33.  1.  2. 31. 54. 16. 35.  1. 12. 27. 54.  9.  7. 67.\n",
      " 52.  7. 64. 41.  4. 16. 25. 44.  5. 49. 36.  3. 55.  9.  2. 32.  7. 43.\n",
      "  2.  6. 44. 63. 83.  8. 33.  9. 23.  9.  3.  8. 89. 85.  8. 91.  2. 57.\n",
      " 55.  1. 45. 64. 93.  9.  9. 47.  6. 97. 73. 63. 89.  7.  6.  4.  2. 18.\n",
      "  5.  3. 18. 82. 86. 12. 35. 46. 72.  6.  3. 99. 23. 36.  1.  5. 85. 64.\n",
      " 25. 39. 88. 11.  8. 69. 31. 75. 61. 19. 84.  5. 73. 57. 24. 99.  4.  1.\n",
      " 61.  9. 79.  8. 13.  3. 49. 94.  1. 71. 38. 93. 89. 66. 32. 83.  1.  1.\n",
      "  2. 71. 26. 29. 89. 35. 41.  6. 34.  8.  1.  5. 79. 97. 17. 94.  7.  7.\n",
      " 36. 54. 76. 89. 23.  6.  4. 26.  8. 13. 31. 15.  9.  3.  1. 62. 87. 34.\n",
      "  8. 89. 39.  7.  3. 12. 56.  5. 96.  2.  8.  3.  9. 36.  7. 95.  3. 17.\n",
      " 75.  1. 38.  2. 17. 72.  3.  2. 48. 41.]\n"
     ]
    }
   ],
   "source": [
    "calibration_values = np.array([]);\n",
    "\n",
    "# loop through lines and extract number of interest\n",
    "for ii in lines:\n",
    "    #print(ii)\n",
    "    this_number = np.array([]);\n",
    "    for ch in range(len(ii)):\n",
    "        #print(ii[ch])\n",
    "        if ii[ch].isdigit():\n",
    "            #print(int(ii[ch]))\n",
    "            this_number = np.append(this_number,int(ii[ch]));\n",
    "                \n",
    "    #print(this_number);\n",
    "    if len(this_number)>1:\n",
    "        calibration_values = np.append(calibration_values,int(str(int(this_number[0]))+str(int(this_number[-1]))))\n",
    "    if len(this_number)==1:\n",
    "        calibration_values = np.append(calibration_values,this_number);\n",
    "\n",
    "        \n",
    "print(calibration_values)"
   ]
  },
  {
   "cell_type": "code",
   "execution_count": 4,
   "id": "afe41869",
   "metadata": {},
   "outputs": [
    {
     "name": "stdout",
     "output_type": "stream",
     "text": [
      "38219.0\n"
     ]
    }
   ],
   "source": [
    "# add up calibration values to get to solution\n",
    "solution = np.sum(calibration_values);\n",
    "print(solution)"
   ]
  },
  {
   "cell_type": "code",
   "execution_count": 24,
   "id": "fa10b3d9",
   "metadata": {},
   "outputs": [
    {
     "name": "stdout",
     "output_type": "stream",
     "text": [
      "6798seven\n",
      "\n",
      "6798s7ven\n",
      "\n",
      "[6. 7. 9. 8. 7.]\n",
      "six8b32csscsdgjsevenfivedlhzhc\n",
      "\n",
      "s6x8b32csscsdgjs7venf5vedlhzhc\n",
      "\n",
      "[6. 8. 3. 2. 7. 5.]\n"
     ]
    },
    {
     "ename": "NameError",
     "evalue": "name 'find_' is not defined",
     "output_type": "error",
     "traceback": [
      "\u001b[1;31m---------------------------------------------------------------------------\u001b[0m",
      "\u001b[1;31mNameError\u001b[0m                                 Traceback (most recent call last)",
      "Input \u001b[1;32mIn [24]\u001b[0m, in \u001b[0;36m<cell line: 18>\u001b[1;34m()\u001b[0m\n\u001b[0;32m     57\u001b[0m         s_\u001b[38;5;241m=\u001b[39ms_[:ii\u001b[38;5;241m+\u001b[39m\u001b[38;5;241m1\u001b[39m]\u001b[38;5;241m+\u001b[39m\u001b[38;5;124m'\u001b[39m\u001b[38;5;124m8\u001b[39m\u001b[38;5;124m'\u001b[39m\u001b[38;5;241m+\u001b[39ms_[ii\u001b[38;5;241m+\u001b[39m\u001b[38;5;241m2\u001b[39m:];\n\u001b[0;32m     58\u001b[0m \u001b[38;5;28;01mif\u001b[39;00m \u001b[38;5;28mlen\u001b[39m(find_9) \u001b[38;5;241m>\u001b[39m \u001b[38;5;241m0\u001b[39m: \n\u001b[1;32m---> 59\u001b[0m     \u001b[38;5;28;01mfor\u001b[39;00m ii \u001b[38;5;129;01min\u001b[39;00m \u001b[43mfind_\u001b[49m: \n\u001b[0;32m     60\u001b[0m         s_\u001b[38;5;241m=\u001b[39ms_[:ii\u001b[38;5;241m+\u001b[39m\u001b[38;5;241m1\u001b[39m]\u001b[38;5;241m+\u001b[39m\u001b[38;5;124m'\u001b[39m\u001b[38;5;124m9\u001b[39m\u001b[38;5;124m'\u001b[39m\u001b[38;5;241m+\u001b[39ms_[ii\u001b[38;5;241m+\u001b[39m\u001b[38;5;241m2\u001b[39m:];\n\u001b[0;32m     63\u001b[0m \u001b[38;5;28mprint\u001b[39m(jj)\n",
      "\u001b[1;31mNameError\u001b[0m: name 'find_' is not defined"
     ]
    }
   ],
   "source": [
    "# Part 2!\n",
    "def locations_of_substring(string, substring):\n",
    "    \"\"\"Return a list of locations of a substring.\"\"\"\n",
    "\n",
    "    substring_length = len(substring)    \n",
    "    def recurse(locations_found, start):\n",
    "        location = string.find(substring, start)\n",
    "        if location != -1:\n",
    "            return recurse(locations_found + [location], location+substring_length)\n",
    "        else:\n",
    "            return locations_found\n",
    "\n",
    "    return recurse([], 0)\n",
    "\n",
    "calibration_values = np.array([]);\n",
    "\n",
    "# loop through lines and extract number of interest\n",
    "for jj in lines:\n",
    "    \n",
    "    # replace written digits with numbers (have to read from left to right)\n",
    "    s_ = jj;\n",
    "    \n",
    "    find_1 = locations_of_substring(s_,'one'); \n",
    "    find_2 = locations_of_substring(s_,'two');\n",
    "    find_3 = locations_of_substring(s_,'three');\n",
    "    find_4 = locations_of_substring(s_,'four');\n",
    "    find_5 = locations_of_substring(s_,'five');\n",
    "    find_6 = locations_of_substring(s_,'six');\n",
    "    find_7 = locations_of_substring(s_,'seven');\n",
    "    find_8 = locations_of_substring(s_,'eight');\n",
    "    find_9 = locations_of_substring(s_,'nine');\n",
    "    \n",
    "    \n",
    "    if len(find_1) > 0: \n",
    "        for ii in find_1: \n",
    "            s_=s_[:ii+1]+'1'+s_[ii+2:];\n",
    "    if len(find_2) > 0: \n",
    "        for ii in find_2: \n",
    "            s_=s_[:ii+1]+'2'+s_[ii+2:];\n",
    "    if len(find_3) > 0: \n",
    "        for ii in find_3: \n",
    "            s_=s_[:ii+1]+'3'+s_[ii+2:];\n",
    "    if len(find_4) > 0: \n",
    "        for ii in find_4: \n",
    "            s_=s_[:ii+1]+'4'+s_[ii+2:];\n",
    "    if len(find_5) > 0: \n",
    "        for ii in find_5: \n",
    "            s_=s_[:ii+1]+'5'+s_[ii+2:];\n",
    "    if len(find_6) > 0: \n",
    "        for ii in find_6: \n",
    "            s_=s_[:ii+1]+'6'+s_[ii+2:];\n",
    "    if len(find_7) > 0: \n",
    "        for ii in find_7: \n",
    "            s_=s_[:ii+1]+'7'+s_[ii+2:];\n",
    "    if len(find_8) > 0: \n",
    "        for ii in find_8: \n",
    "            s_=s_[:ii+1]+'8'+s_[ii+2:];\n",
    "    if len(find_9) > 0: \n",
    "        for ii in find_9: \n",
    "            s_=s_[:ii+1]+'9'+s_[ii+2:];\n",
    "    \n",
    "    \n",
    "    print(jj)\n",
    "    print(s_)\n",
    "    this_number = np.array([]);\n",
    "    for ch in range(len(s_)):\n",
    "        #print(ii[ch])\n",
    "        if s_[ch].isdigit():\n",
    "            #print(int(ii[ch]))\n",
    "            this_number = np.append(this_number,int(s_[ch]));\n",
    "                \n",
    "    print(this_number);\n",
    "    if len(this_number)>1:\n",
    "        calibration_values = np.append(calibration_values,int(str(int(this_number[0]))+str(int(this_number[-1]))))\n",
    "        #print(calibration_values[-1])\n",
    "    if len(this_number)==1:\n",
    "        calibration_values = np.append(calibration_values,this_number);\n",
    "        #print(calibration_values[-1])\n",
    "        \n",
    "# add up calibration values to get to solution\n",
    "new_solution = np.sum(calibration_values);\n",
    "print(new_solution)"
   ]
  },
  {
   "cell_type": "code",
   "execution_count": 140,
   "id": "aaf8079b",
   "metadata": {},
   "outputs": [
    {
     "name": "stdout",
     "output_type": "stream",
     "text": [
      "1\n",
      "5\n",
      "(array([0, 1, 2, 4], dtype=int64),)\n",
      "[[1]\n",
      " [8]]\n",
      "1\n"
     ]
    },
    {
     "data": {
      "text/plain": [
       "array([[-1]])"
      ]
     },
     "execution_count": 140,
     "metadata": {},
     "output_type": "execute_result"
    }
   ],
   "source": [
    "s = 'feightwo4twofivefour'\n",
    "print(s.find('eight'))\n",
    "print(s.find('two'))\n",
    "\n",
    "A = np.array([-1, -1, -1, 1, -1, 8]);\n",
    "print(np.where(A == A.min()))\n",
    "tmp=A[np.argwhere(A>0)];\n",
    "print(tmp)\n",
    "print(tmp.min())\n",
    "idx = np.where(tmp == tmp.min())\n",
    "A[tmp[idx[0]]]\n",
    "\n",
    "#print(np.argwhere(A>0))\n",
    "#print(~np.any(np.argwhere(A>0)))\n",
    "\n",
    "#print(s.replace('seven','7'))"
   ]
  },
  {
   "cell_type": "code",
   "execution_count": 10,
   "id": "59ab953f",
   "metadata": {},
   "outputs": [
    {
     "name": "stdout",
     "output_type": "stream",
     "text": [
      "5\n",
      "fe8ghtwo4twofivefour\n"
     ]
    }
   ],
   "source": [
    "def locations_of_substring(string, substring):\n",
    "    \"\"\"Return a list of locations of a substring.\"\"\"\n",
    "\n",
    "    substring_length = len(substring)    \n",
    "    def recurse(locations_found, start):\n",
    "        location = string.find(substring, start)\n",
    "        if location != -1:\n",
    "            return recurse(locations_found + [location], location+substring_length)\n",
    "        else:\n",
    "            return locations_found\n",
    "\n",
    "    return recurse([], 0)\n",
    "\n",
    "s = 'feightwo4twofivefour'\n",
    "find_8 = s.find('eight')\n",
    "print(s.find('two'))\n",
    "\n",
    "s_ = s[:find_8+1]+'8'+s[find_8+2:]\n",
    "print(s_)"
   ]
  },
  {
   "cell_type": "code",
   "execution_count": 17,
   "id": "f984a1a9",
   "metadata": {},
   "outputs": [
    {
     "name": "stdout",
     "output_type": "stream",
     "text": [
      "0\n"
     ]
    }
   ],
   "source": [
    "def locations_of_substring(string, substring):\n",
    "    \"\"\"Return a list of locations of a substring.\"\"\"\n",
    "\n",
    "    substring_length = len(substring)    \n",
    "    def recurse(locations_found, start):\n",
    "        location = string.find(substring, start)\n",
    "        if location != -1:\n",
    "            return recurse(locations_found + [location], location+substring_length)\n",
    "        else:\n",
    "            return locations_found\n",
    "\n",
    "    return recurse([], 0)\n",
    "\n",
    "s = 'feightwo4twofivefourtwo';\n",
    "find_1=locations_of_substring(s_,'nine');\n",
    "print(len(find_1))\n",
    "\n",
    "\n",
    "for ii in find_1: print(ii)\n"
   ]
  }
 ],
 "metadata": {
  "kernelspec": {
   "display_name": "Python 3 (ipykernel)",
   "language": "python",
   "name": "python3"
  },
  "language_info": {
   "codemirror_mode": {
    "name": "ipython",
    "version": 3
   },
   "file_extension": ".py",
   "mimetype": "text/x-python",
   "name": "python",
   "nbconvert_exporter": "python",
   "pygments_lexer": "ipython3",
   "version": "3.9.12"
  }
 },
 "nbformat": 4,
 "nbformat_minor": 5
}
